{
  "nbformat": 4,
  "nbformat_minor": 0,
  "metadata": {
    "colab": {
      "name": "District_Prediction.ipynb",
      "provenance": [],
      "collapsed_sections": []
    },
    "kernelspec": {
      "name": "python3",
      "display_name": "Python 3"
    },
    "accelerator": "GPU"
  },
  "cells": [
    {
      "cell_type": "code",
      "metadata": {
        "id": "OUvisDF6a4x1"
      },
      "source": [
        "import pandas as pd\r\n",
        "import numpy as np\r\n",
        "import matplotlib.pyplot as plt\r\n",
        "from sklearn.model_selection import train_test_split\r\n",
        "from sklearn import preprocessing"
      ],
      "execution_count": null,
      "outputs": []
    },
    {
      "cell_type": "code",
      "metadata": {
        "id": "Gkzq9VpUbakr",
        "colab": {
          "base_uri": "https://localhost:8080/",
          "height": 195
        },
        "outputId": "ffac8904-9493-49d9-998f-f8201614ade7"
      },
      "source": [
        "df = pd.read_csv('/content/filename.csv')\r\n",
        "df.head()"
      ],
      "execution_count": null,
      "outputs": [
        {
          "output_type": "execute_result",
          "data": {
            "text/html": [
              "<div>\n",
              "<style scoped>\n",
              "    .dataframe tbody tr th:only-of-type {\n",
              "        vertical-align: middle;\n",
              "    }\n",
              "\n",
              "    .dataframe tbody tr th {\n",
              "        vertical-align: top;\n",
              "    }\n",
              "\n",
              "    .dataframe thead th {\n",
              "        text-align: right;\n",
              "    }\n",
              "</style>\n",
              "<table border=\"1\" class=\"dataframe\">\n",
              "  <thead>\n",
              "    <tr style=\"text-align: right;\">\n",
              "      <th></th>\n",
              "      <th>Unnamed: 0</th>\n",
              "      <th>temp(cel)</th>\n",
              "      <th>mean_windspeed(km/hr)</th>\n",
              "      <th>re_hum(%)</th>\n",
              "      <th>cloud(okta)</th>\n",
              "      <th>rain(mm)</th>\n",
              "      <th>avg._no._rainyday</th>\n",
              "      <th>district</th>\n",
              "      <th>month_index</th>\n",
              "    </tr>\n",
              "  </thead>\n",
              "  <tbody>\n",
              "    <tr>\n",
              "      <th>0</th>\n",
              "      <td>0</td>\n",
              "      <td>12.571663</td>\n",
              "      <td>4.861222</td>\n",
              "      <td>77.267091</td>\n",
              "      <td>1.525148</td>\n",
              "      <td>14.375759</td>\n",
              "      <td>0.9</td>\n",
              "      <td>Bhagalpur</td>\n",
              "      <td>1</td>\n",
              "    </tr>\n",
              "    <tr>\n",
              "      <th>1</th>\n",
              "      <td>1</td>\n",
              "      <td>16.876908</td>\n",
              "      <td>4.658724</td>\n",
              "      <td>76.001416</td>\n",
              "      <td>1.749436</td>\n",
              "      <td>13.976031</td>\n",
              "      <td>0.9</td>\n",
              "      <td>Bhagalpur</td>\n",
              "      <td>1</td>\n",
              "    </tr>\n",
              "    <tr>\n",
              "      <th>2</th>\n",
              "      <td>2</td>\n",
              "      <td>15.775776</td>\n",
              "      <td>3.505728</td>\n",
              "      <td>79.321824</td>\n",
              "      <td>1.713624</td>\n",
              "      <td>12.331613</td>\n",
              "      <td>0.9</td>\n",
              "      <td>Bhagalpur</td>\n",
              "      <td>1</td>\n",
              "    </tr>\n",
              "    <tr>\n",
              "      <th>3</th>\n",
              "      <td>3</td>\n",
              "      <td>12.903226</td>\n",
              "      <td>3.196545</td>\n",
              "      <td>79.323649</td>\n",
              "      <td>1.591761</td>\n",
              "      <td>12.337610</td>\n",
              "      <td>0.9</td>\n",
              "      <td>Bhagalpur</td>\n",
              "      <td>1</td>\n",
              "    </tr>\n",
              "    <tr>\n",
              "      <th>4</th>\n",
              "      <td>4</td>\n",
              "      <td>16.829754</td>\n",
              "      <td>4.926399</td>\n",
              "      <td>78.572965</td>\n",
              "      <td>1.469696</td>\n",
              "      <td>12.780349</td>\n",
              "      <td>0.9</td>\n",
              "      <td>Bhagalpur</td>\n",
              "      <td>1</td>\n",
              "    </tr>\n",
              "  </tbody>\n",
              "</table>\n",
              "</div>"
            ],
            "text/plain": [
              "   Unnamed: 0  temp(cel)  ...   district  month_index\n",
              "0           0  12.571663  ...  Bhagalpur            1\n",
              "1           1  16.876908  ...  Bhagalpur            1\n",
              "2           2  15.775776  ...  Bhagalpur            1\n",
              "3           3  12.903226  ...  Bhagalpur            1\n",
              "4           4  16.829754  ...  Bhagalpur            1\n",
              "\n",
              "[5 rows x 9 columns]"
            ]
          },
          "metadata": {
            "tags": []
          },
          "execution_count": 4
        }
      ]
    },
    {
      "cell_type": "code",
      "metadata": {
        "id": "t4kJ_Vo4hS69",
        "colab": {
          "base_uri": "https://localhost:8080/",
          "height": 195
        },
        "outputId": "cdca5f5f-4cf3-4f7f-b3d5-91eafcf43b64"
      },
      "source": [
        "df = df.sample(frac=1).reset_index(drop=True)\r\n",
        "df.head()"
      ],
      "execution_count": null,
      "outputs": [
        {
          "output_type": "execute_result",
          "data": {
            "text/html": [
              "<div>\n",
              "<style scoped>\n",
              "    .dataframe tbody tr th:only-of-type {\n",
              "        vertical-align: middle;\n",
              "    }\n",
              "\n",
              "    .dataframe tbody tr th {\n",
              "        vertical-align: top;\n",
              "    }\n",
              "\n",
              "    .dataframe thead th {\n",
              "        text-align: right;\n",
              "    }\n",
              "</style>\n",
              "<table border=\"1\" class=\"dataframe\">\n",
              "  <thead>\n",
              "    <tr style=\"text-align: right;\">\n",
              "      <th></th>\n",
              "      <th>Unnamed: 0</th>\n",
              "      <th>temp(cel)</th>\n",
              "      <th>mean_windspeed(km/hr)</th>\n",
              "      <th>re_hum(%)</th>\n",
              "      <th>cloud(okta)</th>\n",
              "      <th>rain(mm)</th>\n",
              "      <th>avg._no._rainyday</th>\n",
              "      <th>district</th>\n",
              "      <th>month_index</th>\n",
              "    </tr>\n",
              "  </thead>\n",
              "  <tbody>\n",
              "    <tr>\n",
              "      <th>0</th>\n",
              "      <td>262</td>\n",
              "      <td>20.014826</td>\n",
              "      <td>4.650373</td>\n",
              "      <td>57.180778</td>\n",
              "      <td>1.163022</td>\n",
              "      <td>7.046653</td>\n",
              "      <td>0.6</td>\n",
              "      <td>Muzaffarpur</td>\n",
              "      <td>3</td>\n",
              "    </tr>\n",
              "    <tr>\n",
              "      <th>1</th>\n",
              "      <td>351</td>\n",
              "      <td>26.913949</td>\n",
              "      <td>10.066652</td>\n",
              "      <td>80.792861</td>\n",
              "      <td>6.253036</td>\n",
              "      <td>290.868969</td>\n",
              "      <td>11.5</td>\n",
              "      <td>Raxaul</td>\n",
              "      <td>8</td>\n",
              "    </tr>\n",
              "    <tr>\n",
              "      <th>2</th>\n",
              "      <td>90</td>\n",
              "      <td>30.306989</td>\n",
              "      <td>4.536226</td>\n",
              "      <td>78.739710</td>\n",
              "      <td>4.735307</td>\n",
              "      <td>262.240458</td>\n",
              "      <td>10.6</td>\n",
              "      <td>Darbhanga</td>\n",
              "      <td>8</td>\n",
              "    </tr>\n",
              "    <tr>\n",
              "      <th>3</th>\n",
              "      <td>203</td>\n",
              "      <td>33.562987</td>\n",
              "      <td>5.922421</td>\n",
              "      <td>52.773886</td>\n",
              "      <td>0.675278</td>\n",
              "      <td>9.190852</td>\n",
              "      <td>0.6</td>\n",
              "      <td>jamui</td>\n",
              "      <td>4</td>\n",
              "    </tr>\n",
              "    <tr>\n",
              "      <th>4</th>\n",
              "      <td>29</td>\n",
              "      <td>34.583787</td>\n",
              "      <td>6.978946</td>\n",
              "      <td>67.697722</td>\n",
              "      <td>3.320547</td>\n",
              "      <td>63.926974</td>\n",
              "      <td>3.5</td>\n",
              "      <td>Bhagalpur</td>\n",
              "      <td>5</td>\n",
              "    </tr>\n",
              "  </tbody>\n",
              "</table>\n",
              "</div>"
            ],
            "text/plain": [
              "   Unnamed: 0  temp(cel)  ...     district  month_index\n",
              "0         262  20.014826  ...  Muzaffarpur            3\n",
              "1         351  26.913949  ...       Raxaul            8\n",
              "2          90  30.306989  ...    Darbhanga            8\n",
              "3         203  33.562987  ...        jamui            4\n",
              "4          29  34.583787  ...    Bhagalpur            5\n",
              "\n",
              "[5 rows x 9 columns]"
            ]
          },
          "metadata": {
            "tags": []
          },
          "execution_count": 5
        }
      ]
    },
    {
      "cell_type": "code",
      "metadata": {
        "colab": {
          "base_uri": "https://localhost:8080/",
          "height": 296
        },
        "id": "KautLBVrgKte",
        "outputId": "ef6b4cbb-8d99-4f96-8b26-74a9490f0f02"
      },
      "source": [
        "import seaborn as sns\r\n",
        "sns.countplot(x='district',data=df)"
      ],
      "execution_count": null,
      "outputs": [
        {
          "output_type": "execute_result",
          "data": {
            "text/plain": [
              "<matplotlib.axes._subplots.AxesSubplot at 0x7fed25e54400>"
            ]
          },
          "metadata": {
            "tags": []
          },
          "execution_count": 6
        },
        {
          "output_type": "display_data",
          "data": {
            "image/png": "[encoded data removed]",
            "text/plain": [
              "<Figure size 432x288 with 1 Axes>"
            ]
          },
          "metadata": {
            "tags": [],
            "needs_background": "light"
          }
        }
      ]
    },
    {
      "cell_type": "code",
      "metadata": {
        "colab": {
          "base_uri": "https://localhost:8080/"
        },
        "id": "vs2Tl3u4hMGa",
        "outputId": "0fa7d838-5d0f-4075-f341-48140134665e"
      },
      "source": [
        "df.info()"
      ],
      "execution_count": null,
      "outputs": [
        {
          "output_type": "stream",
          "text": [
            "<class 'pandas.core.frame.DataFrame'>\n",
            "RangeIndex: 5110 entries, 0 to 5109\n",
            "Data columns (total 9 columns):\n",
            " #   Column                 Non-Null Count  Dtype  \n",
            "---  ------                 --------------  -----  \n",
            " 0   Unnamed: 0             5110 non-null   int64  \n",
            " 1   temp(cel)              5110 non-null   float64\n",
            " 2   mean_windspeed(km/hr)  5110 non-null   float64\n",
            " 3   re_hum(%)              5110 non-null   float64\n",
            " 4   cloud(okta)            5110 non-null   float64\n",
            " 5   rain(mm)               5110 non-null   float64\n",
            " 6   avg._no._rainyday      5110 non-null   float64\n",
            " 7   district               5110 non-null   object \n",
            " 8   month_index            5110 non-null   int64  \n",
            "dtypes: float64(6), int64(2), object(1)\n",
            "memory usage: 359.4+ KB\n"
          ],
          "name": "stdout"
        }
      ]
    },
    {
      "cell_type": "code",
      "metadata": {
        "colab": {
          "base_uri": "https://localhost:8080/",
          "height": 400
        },
        "id": "ndiP18v8hgYE",
        "outputId": "5c31bb6b-d430-4434-b4aa-0dd7bbb08d93"
      },
      "source": [
        "sns.heatmap(df.isnull(),yticklabels=False)"
      ],
      "execution_count": null,
      "outputs": [
        {
          "output_type": "execute_result",
          "data": {
            "text/plain": [
              "<matplotlib.axes._subplots.AxesSubplot at 0x7fed25dad6d8>"
            ]
          },
          "metadata": {
            "tags": []
          },
          "execution_count": 8
        },
        {
          "output_type": "display_data",
          "data": {
            "image/png": "[encoded data removed]",
            "text/plain": [
              "<Figure size 432x288 with 2 Axes>"
            ]
          },
          "metadata": {
            "tags": [],
            "needs_background": "light"
          }
        }
      ]
    },
    {
      "cell_type": "code",
      "metadata": {
        "id": "CSmPUWEiiVmo"
      },
      "source": [
        "X=df[['temp(cel)','mean_windspeed(km/hr)','re_hum(%)','cloud(okta)','rain(mm)','avg._no._rainyday','month_index']]\r\n",
        "y =df['district']"
      ],
      "execution_count": null,
      "outputs": []
    },
    {
      "cell_type": "code",
      "metadata": {
        "id": "8z1r_js6jNdj",
        "colab": {
          "base_uri": "https://localhost:8080/",
          "height": 402
        },
        "outputId": "443eefb1-ce48-4b87-e5dd-31a85b90ac3b"
      },
      "source": [
        "X"
      ],
      "execution_count": null,
      "outputs": [
        {
          "output_type": "execute_result",
          "data": {
            "text/html": [
              "<div>\n",
              "<style scoped>\n",
              "    .dataframe tbody tr th:only-of-type {\n",
              "        vertical-align: middle;\n",
              "    }\n",
              "\n",
              "    .dataframe tbody tr th {\n",
              "        vertical-align: top;\n",
              "    }\n",
              "\n",
              "    .dataframe thead th {\n",
              "        text-align: right;\n",
              "    }\n",
              "</style>\n",
              "<table border=\"1\" class=\"dataframe\">\n",
              "  <thead>\n",
              "    <tr style=\"text-align: right;\">\n",
              "      <th></th>\n",
              "      <th>temp(cel)</th>\n",
              "      <th>mean_windspeed(km/hr)</th>\n",
              "      <th>re_hum(%)</th>\n",
              "      <th>cloud(okta)</th>\n",
              "      <th>rain(mm)</th>\n",
              "      <th>avg._no._rainyday</th>\n",
              "      <th>month_index</th>\n",
              "    </tr>\n",
              "  </thead>\n",
              "  <tbody>\n",
              "    <tr>\n",
              "      <th>0</th>\n",
              "      <td>20.014826</td>\n",
              "      <td>4.650373</td>\n",
              "      <td>57.180778</td>\n",
              "      <td>1.163022</td>\n",
              "      <td>7.046653</td>\n",
              "      <td>0.6</td>\n",
              "      <td>3</td>\n",
              "    </tr>\n",
              "    <tr>\n",
              "      <th>1</th>\n",
              "      <td>26.913949</td>\n",
              "      <td>10.066652</td>\n",
              "      <td>80.792861</td>\n",
              "      <td>6.253036</td>\n",
              "      <td>290.868969</td>\n",
              "      <td>11.5</td>\n",
              "      <td>8</td>\n",
              "    </tr>\n",
              "    <tr>\n",
              "      <th>2</th>\n",
              "      <td>30.306989</td>\n",
              "      <td>4.536226</td>\n",
              "      <td>78.739710</td>\n",
              "      <td>4.735307</td>\n",
              "      <td>262.240458</td>\n",
              "      <td>10.6</td>\n",
              "      <td>8</td>\n",
              "    </tr>\n",
              "    <tr>\n",
              "      <th>3</th>\n",
              "      <td>33.562987</td>\n",
              "      <td>5.922421</td>\n",
              "      <td>52.773886</td>\n",
              "      <td>0.675278</td>\n",
              "      <td>9.190852</td>\n",
              "      <td>0.6</td>\n",
              "      <td>4</td>\n",
              "    </tr>\n",
              "    <tr>\n",
              "      <th>4</th>\n",
              "      <td>34.583787</td>\n",
              "      <td>6.978946</td>\n",
              "      <td>67.697722</td>\n",
              "      <td>3.320547</td>\n",
              "      <td>63.926974</td>\n",
              "      <td>3.5</td>\n",
              "      <td>5</td>\n",
              "    </tr>\n",
              "    <tr>\n",
              "      <th>...</th>\n",
              "      <td>...</td>\n",
              "      <td>...</td>\n",
              "      <td>...</td>\n",
              "      <td>...</td>\n",
              "      <td>...</td>\n",
              "      <td>...</td>\n",
              "      <td>...</td>\n",
              "    </tr>\n",
              "    <tr>\n",
              "      <th>5105</th>\n",
              "      <td>27.745641</td>\n",
              "      <td>7.573405</td>\n",
              "      <td>57.723849</td>\n",
              "      <td>1.182270</td>\n",
              "      <td>29.045037</td>\n",
              "      <td>1.9</td>\n",
              "      <td>5</td>\n",
              "    </tr>\n",
              "    <tr>\n",
              "      <th>5106</th>\n",
              "      <td>24.495833</td>\n",
              "      <td>4.047122</td>\n",
              "      <td>80.288719</td>\n",
              "      <td>1.288470</td>\n",
              "      <td>10.058863</td>\n",
              "      <td>0.8</td>\n",
              "      <td>2</td>\n",
              "    </tr>\n",
              "    <tr>\n",
              "      <th>5107</th>\n",
              "      <td>34.513800</td>\n",
              "      <td>8.148392</td>\n",
              "      <td>58.299125</td>\n",
              "      <td>0.598250</td>\n",
              "      <td>34.923545</td>\n",
              "      <td>2.2</td>\n",
              "      <td>5</td>\n",
              "    </tr>\n",
              "    <tr>\n",
              "      <th>5108</th>\n",
              "      <td>31.266483</td>\n",
              "      <td>5.530630</td>\n",
              "      <td>84.448139</td>\n",
              "      <td>1.827016</td>\n",
              "      <td>68.566743</td>\n",
              "      <td>2.5</td>\n",
              "      <td>10</td>\n",
              "    </tr>\n",
              "    <tr>\n",
              "      <th>5109</th>\n",
              "      <td>22.273390</td>\n",
              "      <td>3.578671</td>\n",
              "      <td>62.388767</td>\n",
              "      <td>1.304125</td>\n",
              "      <td>13.554547</td>\n",
              "      <td>1.4</td>\n",
              "      <td>2</td>\n",
              "    </tr>\n",
              "  </tbody>\n",
              "</table>\n",
              "<p>5110 rows × 7 columns</p>\n",
              "</div>"
            ],
            "text/plain": [
              "      temp(cel)  mean_windspeed(km/hr)  ...  avg._no._rainyday  month_index\n",
              "0     20.014826               4.650373  ...                0.6            3\n",
              "1     26.913949              10.066652  ...               11.5            8\n",
              "2     30.306989               4.536226  ...               10.6            8\n",
              "3     33.562987               5.922421  ...                0.6            4\n",
              "4     34.583787               6.978946  ...                3.5            5\n",
              "...         ...                    ...  ...                ...          ...\n",
              "5105  27.745641               7.573405  ...                1.9            5\n",
              "5106  24.495833               4.047122  ...                0.8            2\n",
              "5107  34.513800               8.148392  ...                2.2            5\n",
              "5108  31.266483               5.530630  ...                2.5           10\n",
              "5109  22.273390               3.578671  ...                1.4            2\n",
              "\n",
              "[5110 rows x 7 columns]"
            ]
          },
          "metadata": {
            "tags": []
          },
          "execution_count": 10
        }
      ]
    },
    {
      "cell_type": "code",
      "metadata": {
        "id": "IGN0udLJj3U8",
        "colab": {
          "base_uri": "https://localhost:8080/"
        },
        "outputId": "1473a41f-04c0-4a55-86d2-1e5ddc389173"
      },
      "source": [
        "y"
      ],
      "execution_count": null,
      "outputs": [
        {
          "output_type": "execute_result",
          "data": {
            "text/plain": [
              "0       Muzaffarpur\n",
              "1            Raxaul\n",
              "2         Darbhanga\n",
              "3             jamui\n",
              "4         Bhagalpur\n",
              "           ...     \n",
              "5105         chapra\n",
              "5106         Supaul\n",
              "5107          jamui\n",
              "5108         Supaul\n",
              "5109          Dehri\n",
              "Name: district, Length: 5110, dtype: object"
            ]
          },
          "metadata": {
            "tags": []
          },
          "execution_count": 11
        }
      ]
    },
    {
      "cell_type": "code",
      "metadata": {
        "id": "mAztVWRfjPc6",
        "colab": {
          "base_uri": "https://localhost:8080/"
        },
        "outputId": "9230cc62-7abc-409e-e634-52625b40efa3"
      },
      "source": [
        "\r\n",
        "lb = preprocessing.LabelEncoder()\r\n",
        "y=lb.fit_transform(y)\r\n",
        "y"
      ],
      "execution_count": null,
      "outputs": [
        {
          "output_type": "execute_result",
          "data": {
            "text/plain": [
              "array([ 6,  8,  1, ..., 12, 10,  2])"
            ]
          },
          "metadata": {
            "tags": []
          },
          "execution_count": 12
        }
      ]
    },
    {
      "cell_type": "code",
      "metadata": {
        "id": "pxLLgJsfjp8m",
        "colab": {
          "base_uri": "https://localhost:8080/"
        },
        "outputId": "78385af4-96aa-457e-9e14-b80e6bad861a"
      },
      "source": [
        "X = X.iloc[:,:].values\r\n",
        "X"
      ],
      "execution_count": null,
      "outputs": [
        {
          "output_type": "execute_result",
          "data": {
            "text/plain": [
              "array([[ 20.01482632,   4.65037295,  57.18077785, ...,   7.04665328,\n",
              "          0.6       ,   3.        ],\n",
              "       [ 26.91394942,  10.06665176,  80.79286095, ..., 290.86896893,\n",
              "         11.5       ,   8.        ],\n",
              "       [ 30.30698876,   4.53622594,  78.73970985, ..., 262.2404584 ,\n",
              "         10.6       ,   8.        ],\n",
              "       ...,\n",
              "       [ 34.51380037,   8.14839233,  58.29912482, ...,  34.92354487,\n",
              "          2.2       ,   5.        ],\n",
              "       [ 31.26648327,   5.5306298 ,  84.44813918, ...,  68.56674327,\n",
              "          2.5       ,  10.        ],\n",
              "       [ 22.2733901 ,   3.57867061,  62.38876676, ...,  13.5545475 ,\n",
              "          1.4       ,   2.        ]])"
            ]
          },
          "metadata": {
            "tags": []
          },
          "execution_count": 13
        }
      ]
    },
    {
      "cell_type": "code",
      "metadata": {
        "id": "zgEWC4Y7kNHP"
      },
      "source": [
        "  \r\n",
        "x_train, x_test, y_train, y_test= train_test_split(X, y, test_size= 0.25, random_state=0)"
      ],
      "execution_count": null,
      "outputs": []
    },
    {
      "cell_type": "code",
      "metadata": {
        "id": "xe-qdECek9rK",
        "colab": {
          "base_uri": "https://localhost:8080/"
        },
        "outputId": "3a2cb9b5-2dcf-47e2-e6d7-69714809c2df"
      },
      "source": [
        "from sklearn.ensemble import RandomForestClassifier  \r\n",
        "classifier= RandomForestClassifier(n_estimators= 10, criterion=\"entropy\")  \r\n",
        "classifier.fit(x_train, y_train)\r\n"
      ],
      "execution_count": null,
      "outputs": [
        {
          "output_type": "execute_result",
          "data": {
            "text/plain": [
              "RandomForestClassifier(bootstrap=True, ccp_alpha=0.0, class_weight=None,\n",
              "                       criterion='entropy', max_depth=None, max_features='auto',\n",
              "                       max_leaf_nodes=None, max_samples=None,\n",
              "                       min_impurity_decrease=0.0, min_impurity_split=None,\n",
              "                       min_samples_leaf=1, min_samples_split=2,\n",
              "                       min_weight_fraction_leaf=0.0, n_estimators=10,\n",
              "                       n_jobs=None, oob_score=False, random_state=None,\n",
              "                       verbose=0, warm_start=False)"
            ]
          },
          "metadata": {
            "tags": []
          },
          "execution_count": 15
        }
      ]
    },
    {
      "cell_type": "code",
      "metadata": {
        "colab": {
          "base_uri": "https://localhost:8080/"
        },
        "id": "f25vqYVeYeCn",
        "outputId": "d677ec54-b1bb-4cf5-f3ba-b86e86a619d5"
      },
      "source": [
        "import joblib\r\n",
        "filename = 'district.csv'\r\n",
        "joblib.dump(classifier,filename)"
      ],
      "execution_count": null,
      "outputs": [
        {
          "output_type": "execute_result",
          "data": {
            "text/plain": [
              "['district.csv']"
            ]
          },
          "metadata": {
            "tags": []
          },
          "execution_count": 16
        }
      ]
    },
    {
      "cell_type": "code",
      "metadata": {
        "id": "eBvFYn1xlEfl",
        "colab": {
          "base_uri": "https://localhost:8080/"
        },
        "outputId": "9ac51c26-7874-49d1-da3a-a5d6d5e1ec97"
      },
      "source": [
        "model = joblib.load('district.csv')\r\n",
        "y_pred = model.predict(x_test)\r\n",
        "y_pred"
      ],
      "execution_count": null,
      "outputs": [
        {
          "output_type": "execute_result",
          "data": {
            "text/plain": [
              "array([ 2,  3,  4, ...,  6, 12,  5])"
            ]
          },
          "metadata": {
            "tags": []
          },
          "execution_count": 17
        }
      ]
    },
    {
      "cell_type": "code",
      "metadata": {
        "id": "zMnsjmIFlJSa",
        "colab": {
          "base_uri": "https://localhost:8080/"
        },
        "outputId": "98ee7ab5-624b-497d-cc17-0298230b3417"
      },
      "source": [
        "score = model.score(x_test,y_test)\r\n",
        "score"
      ],
      "execution_count": null,
      "outputs": [
        {
          "output_type": "execute_result",
          "data": {
            "text/plain": [
              "0.9694835680751174"
            ]
          },
          "metadata": {
            "tags": []
          },
          "execution_count": 17
        }
      ]
    },
    {
      "cell_type": "code",
      "metadata": {
        "id": "nHjh0bxylLY4",
        "colab": {
          "base_uri": "https://localhost:8080/"
        },
        "outputId": "9512b0d7-62b6-4355-b7e3-5e341dc9bad3"
      },
      "source": [
        "output = lb.inverse_transform(y_pred)\r\n",
        "output"
      ],
      "execution_count": null,
      "outputs": [
        {
          "output_type": "execute_result",
          "data": {
            "text/plain": [
              "array(['Supaul', 'Supaul', 'Gaya', ..., 'Dehri', 'Motihari', 'Purnea'],\n",
              "      dtype=object)"
            ]
          },
          "metadata": {
            "tags": []
          },
          "execution_count": 18
        }
      ]
    },
    {
      "cell_type": "code",
      "metadata": {
        "id": "U4vjTYb-9Yz6"
      },
      "source": [
        ""
      ],
      "execution_count": null,
      "outputs": []
    }
  ]
}