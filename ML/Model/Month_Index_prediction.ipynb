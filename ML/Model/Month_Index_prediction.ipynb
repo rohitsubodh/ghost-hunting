{
  "nbformat": 4,
  "nbformat_minor": 0,
  "metadata": {
    "colab": {
      "name": "Month_Index_prediction.ipynb",
      "provenance": [],
      "collapsed_sections": []
    },
    "kernelspec": {
      "name": "python3",
      "display_name": "Python 3"
    },
    "accelerator": "GPU"
  },
  "cells": [
    {
      "cell_type": "code",
      "metadata": {
        "id": "QeO0_OmBNxPq"
      },
      "source": [
        "import pandas as pd\r\n",
        "import numpy as np\r\n",
        "import matplotlib.pyplot as plt\r\n",
        "from sklearn.model_selection import train_test_split\r\n",
        "from sklearn import preprocessing"
      ],
      "execution_count": null,
      "outputs": []
    },
    {
      "cell_type": "code",
      "metadata": {
        "colab": {
          "base_uri": "https://localhost:8080/",
          "height": 195
        },
        "id": "LCdFl165OBdM",
        "outputId": "bfe54bdc-0d8a-43b4-9dad-062bdb1733ea"
      },
      "source": [
        "df = pd.read_csv('/content/filename.csv')\r\n",
        "df.head()"
      ],
      "execution_count": null,
      "outputs": [
        {
          "output_type": "execute_result",
          "data": {
            "text/html": [
              "<div>\n",
              "<style scoped>\n",
              "    .dataframe tbody tr th:only-of-type {\n",
              "        vertical-align: middle;\n",
              "    }\n",
              "\n",
              "    .dataframe tbody tr th {\n",
              "        vertical-align: top;\n",
              "    }\n",
              "\n",
              "    .dataframe thead th {\n",
              "        text-align: right;\n",
              "    }\n",
              "</style>\n",
              "<table border=\"1\" class=\"dataframe\">\n",
              "  <thead>\n",
              "    <tr style=\"text-align: right;\">\n",
              "      <th></th>\n",
              "      <th>Unnamed: 0</th>\n",
              "      <th>temp(cel)</th>\n",
              "      <th>mean_windspeed(km/hr)</th>\n",
              "      <th>re_hum(%)</th>\n",
              "      <th>cloud(okta)</th>\n",
              "      <th>rain(mm)</th>\n",
              "      <th>avg._no._rainyday</th>\n",
              "      <th>district</th>\n",
              "      <th>month_index</th>\n",
              "    </tr>\n",
              "  </thead>\n",
              "  <tbody>\n",
              "    <tr>\n",
              "      <th>0</th>\n",
              "      <td>0</td>\n",
              "      <td>12.571663</td>\n",
              "      <td>4.861222</td>\n",
              "      <td>77.267091</td>\n",
              "      <td>1.525148</td>\n",
              "      <td>14.375759</td>\n",
              "      <td>0.9</td>\n",
              "      <td>Bhagalpur</td>\n",
              "      <td>1</td>\n",
              "    </tr>\n",
              "    <tr>\n",
              "      <th>1</th>\n",
              "      <td>1</td>\n",
              "      <td>16.876908</td>\n",
              "      <td>4.658724</td>\n",
              "      <td>76.001416</td>\n",
              "      <td>1.749436</td>\n",
              "      <td>13.976031</td>\n",
              "      <td>0.9</td>\n",
              "      <td>Bhagalpur</td>\n",
              "      <td>1</td>\n",
              "    </tr>\n",
              "    <tr>\n",
              "      <th>2</th>\n",
              "      <td>2</td>\n",
              "      <td>15.775776</td>\n",
              "      <td>3.505728</td>\n",
              "      <td>79.321824</td>\n",
              "      <td>1.713624</td>\n",
              "      <td>12.331613</td>\n",
              "      <td>0.9</td>\n",
              "      <td>Bhagalpur</td>\n",
              "      <td>1</td>\n",
              "    </tr>\n",
              "    <tr>\n",
              "      <th>3</th>\n",
              "      <td>3</td>\n",
              "      <td>12.903226</td>\n",
              "      <td>3.196545</td>\n",
              "      <td>79.323649</td>\n",
              "      <td>1.591761</td>\n",
              "      <td>12.337610</td>\n",
              "      <td>0.9</td>\n",
              "      <td>Bhagalpur</td>\n",
              "      <td>1</td>\n",
              "    </tr>\n",
              "    <tr>\n",
              "      <th>4</th>\n",
              "      <td>4</td>\n",
              "      <td>16.829754</td>\n",
              "      <td>4.926399</td>\n",
              "      <td>78.572965</td>\n",
              "      <td>1.469696</td>\n",
              "      <td>12.780349</td>\n",
              "      <td>0.9</td>\n",
              "      <td>Bhagalpur</td>\n",
              "      <td>1</td>\n",
              "    </tr>\n",
              "  </tbody>\n",
              "</table>\n",
              "</div>"
            ],
            "text/plain": [
              "   Unnamed: 0  temp(cel)  ...   district  month_index\n",
              "0           0  12.571663  ...  Bhagalpur            1\n",
              "1           1  16.876908  ...  Bhagalpur            1\n",
              "2           2  15.775776  ...  Bhagalpur            1\n",
              "3           3  12.903226  ...  Bhagalpur            1\n",
              "4           4  16.829754  ...  Bhagalpur            1\n",
              "\n",
              "[5 rows x 9 columns]"
            ]
          },
          "metadata": {
            "tags": []
          },
          "execution_count": 2
        }
      ]
    },
    {
      "cell_type": "code",
      "metadata": {
        "colab": {
          "base_uri": "https://localhost:8080/",
          "height": 195
        },
        "id": "ZTZe7xo-OEFm",
        "outputId": "31dd94eb-fd1f-4f44-ddce-46f76c0b0ab3"
      },
      "source": [
        "df = df.sample(frac=1).reset_index(drop=True)\r\n",
        "df.head()"
      ],
      "execution_count": null,
      "outputs": [
        {
          "output_type": "execute_result",
          "data": {
            "text/html": [
              "<div>\n",
              "<style scoped>\n",
              "    .dataframe tbody tr th:only-of-type {\n",
              "        vertical-align: middle;\n",
              "    }\n",
              "\n",
              "    .dataframe tbody tr th {\n",
              "        vertical-align: top;\n",
              "    }\n",
              "\n",
              "    .dataframe thead th {\n",
              "        text-align: right;\n",
              "    }\n",
              "</style>\n",
              "<table border=\"1\" class=\"dataframe\">\n",
              "  <thead>\n",
              "    <tr style=\"text-align: right;\">\n",
              "      <th></th>\n",
              "      <th>Unnamed: 0</th>\n",
              "      <th>temp(cel)</th>\n",
              "      <th>mean_windspeed(km/hr)</th>\n",
              "      <th>re_hum(%)</th>\n",
              "      <th>cloud(okta)</th>\n",
              "      <th>rain(mm)</th>\n",
              "      <th>avg._no._rainyday</th>\n",
              "      <th>district</th>\n",
              "      <th>month_index</th>\n",
              "    </tr>\n",
              "  </thead>\n",
              "  <tbody>\n",
              "    <tr>\n",
              "      <th>0</th>\n",
              "      <td>18</td>\n",
              "      <td>29.173005</td>\n",
              "      <td>3.950765</td>\n",
              "      <td>73.503800</td>\n",
              "      <td>1.568318</td>\n",
              "      <td>7.544178</td>\n",
              "      <td>0.3</td>\n",
              "      <td>Bhagalpur</td>\n",
              "      <td>11</td>\n",
              "    </tr>\n",
              "    <tr>\n",
              "      <th>1</th>\n",
              "      <td>42</td>\n",
              "      <td>26.322006</td>\n",
              "      <td>5.611939</td>\n",
              "      <td>80.743144</td>\n",
              "      <td>4.499297</td>\n",
              "      <td>212.893017</td>\n",
              "      <td>9.0</td>\n",
              "      <td>chapra</td>\n",
              "      <td>9</td>\n",
              "    </tr>\n",
              "    <tr>\n",
              "      <th>2</th>\n",
              "      <td>425</td>\n",
              "      <td>28.735248</td>\n",
              "      <td>4.602524</td>\n",
              "      <td>82.287463</td>\n",
              "      <td>1.953590</td>\n",
              "      <td>71.237887</td>\n",
              "      <td>2.5</td>\n",
              "      <td>Supaul</td>\n",
              "      <td>10</td>\n",
              "    </tr>\n",
              "    <tr>\n",
              "      <th>3</th>\n",
              "      <td>182</td>\n",
              "      <td>31.349318</td>\n",
              "      <td>4.018581</td>\n",
              "      <td>77.000361</td>\n",
              "      <td>2.101658</td>\n",
              "      <td>41.589795</td>\n",
              "      <td>2.1</td>\n",
              "      <td>Gaya</td>\n",
              "      <td>10</td>\n",
              "    </tr>\n",
              "    <tr>\n",
              "      <th>4</th>\n",
              "      <td>328</td>\n",
              "      <td>16.079953</td>\n",
              "      <td>2.736255</td>\n",
              "      <td>81.199783</td>\n",
              "      <td>1.362766</td>\n",
              "      <td>8.075765</td>\n",
              "      <td>0.7</td>\n",
              "      <td>Purnea</td>\n",
              "      <td>1</td>\n",
              "    </tr>\n",
              "  </tbody>\n",
              "</table>\n",
              "</div>"
            ],
            "text/plain": [
              "   Unnamed: 0  temp(cel)  ...   district  month_index\n",
              "0          18  29.173005  ...  Bhagalpur           11\n",
              "1          42  26.322006  ...     chapra            9\n",
              "2         425  28.735248  ...     Supaul           10\n",
              "3         182  31.349318  ...       Gaya           10\n",
              "4         328  16.079953  ...     Purnea            1\n",
              "\n",
              "[5 rows x 9 columns]"
            ]
          },
          "metadata": {
            "tags": []
          },
          "execution_count": 3
        }
      ]
    },
    {
      "cell_type": "code",
      "metadata": {
        "colab": {
          "base_uri": "https://localhost:8080/",
          "height": 195
        },
        "id": "4NdqF_zhOKOa",
        "outputId": "48096498-c14c-4cba-ff07-8615075491bd"
      },
      "source": [
        "\r\n",
        "y =df['district']\r\n",
        "lb = preprocessing.LabelEncoder()\r\n",
        "y=lb.fit_transform(y)\r\n",
        "df['district'] = y\r\n",
        "df.head()"
      ],
      "execution_count": null,
      "outputs": [
        {
          "output_type": "execute_result",
          "data": {
            "text/html": [
              "<div>\n",
              "<style scoped>\n",
              "    .dataframe tbody tr th:only-of-type {\n",
              "        vertical-align: middle;\n",
              "    }\n",
              "\n",
              "    .dataframe tbody tr th {\n",
              "        vertical-align: top;\n",
              "    }\n",
              "\n",
              "    .dataframe thead th {\n",
              "        text-align: right;\n",
              "    }\n",
              "</style>\n",
              "<table border=\"1\" class=\"dataframe\">\n",
              "  <thead>\n",
              "    <tr style=\"text-align: right;\">\n",
              "      <th></th>\n",
              "      <th>Unnamed: 0</th>\n",
              "      <th>temp(cel)</th>\n",
              "      <th>mean_windspeed(km/hr)</th>\n",
              "      <th>re_hum(%)</th>\n",
              "      <th>cloud(okta)</th>\n",
              "      <th>rain(mm)</th>\n",
              "      <th>avg._no._rainyday</th>\n",
              "      <th>district</th>\n",
              "      <th>month_index</th>\n",
              "    </tr>\n",
              "  </thead>\n",
              "  <tbody>\n",
              "    <tr>\n",
              "      <th>0</th>\n",
              "      <td>18</td>\n",
              "      <td>29.173005</td>\n",
              "      <td>3.950765</td>\n",
              "      <td>73.503800</td>\n",
              "      <td>1.568318</td>\n",
              "      <td>7.544178</td>\n",
              "      <td>0.3</td>\n",
              "      <td>0</td>\n",
              "      <td>11</td>\n",
              "    </tr>\n",
              "    <tr>\n",
              "      <th>1</th>\n",
              "      <td>42</td>\n",
              "      <td>26.322006</td>\n",
              "      <td>5.611939</td>\n",
              "      <td>80.743144</td>\n",
              "      <td>4.499297</td>\n",
              "      <td>212.893017</td>\n",
              "      <td>9.0</td>\n",
              "      <td>11</td>\n",
              "      <td>9</td>\n",
              "    </tr>\n",
              "    <tr>\n",
              "      <th>2</th>\n",
              "      <td>425</td>\n",
              "      <td>28.735248</td>\n",
              "      <td>4.602524</td>\n",
              "      <td>82.287463</td>\n",
              "      <td>1.953590</td>\n",
              "      <td>71.237887</td>\n",
              "      <td>2.5</td>\n",
              "      <td>10</td>\n",
              "      <td>10</td>\n",
              "    </tr>\n",
              "    <tr>\n",
              "      <th>3</th>\n",
              "      <td>182</td>\n",
              "      <td>31.349318</td>\n",
              "      <td>4.018581</td>\n",
              "      <td>77.000361</td>\n",
              "      <td>2.101658</td>\n",
              "      <td>41.589795</td>\n",
              "      <td>2.1</td>\n",
              "      <td>4</td>\n",
              "      <td>10</td>\n",
              "    </tr>\n",
              "    <tr>\n",
              "      <th>4</th>\n",
              "      <td>328</td>\n",
              "      <td>16.079953</td>\n",
              "      <td>2.736255</td>\n",
              "      <td>81.199783</td>\n",
              "      <td>1.362766</td>\n",
              "      <td>8.075765</td>\n",
              "      <td>0.7</td>\n",
              "      <td>7</td>\n",
              "      <td>1</td>\n",
              "    </tr>\n",
              "  </tbody>\n",
              "</table>\n",
              "</div>"
            ],
            "text/plain": [
              "   Unnamed: 0  temp(cel)  ...  district  month_index\n",
              "0          18  29.173005  ...         0           11\n",
              "1          42  26.322006  ...        11            9\n",
              "2         425  28.735248  ...        10           10\n",
              "3         182  31.349318  ...         4           10\n",
              "4         328  16.079953  ...         7            1\n",
              "\n",
              "[5 rows x 9 columns]"
            ]
          },
          "metadata": {
            "tags": []
          },
          "execution_count": 4
        }
      ]
    },
    {
      "cell_type": "code",
      "metadata": {
        "colab": {
          "base_uri": "https://localhost:8080/",
          "height": 402
        },
        "id": "kz0NOcy4O6f2",
        "outputId": "58af2d53-36ab-494c-cca6-4c3ce133dcae"
      },
      "source": [
        "X=df[['temp(cel)','mean_windspeed(km/hr)','re_hum(%)','cloud(okta)','rain(mm)','avg._no._rainyday','district']]\r\n",
        "y =df['month_index']\r\n",
        "X"
      ],
      "execution_count": null,
      "outputs": [
        {
          "output_type": "execute_result",
          "data": {
            "text/html": [
              "<div>\n",
              "<style scoped>\n",
              "    .dataframe tbody tr th:only-of-type {\n",
              "        vertical-align: middle;\n",
              "    }\n",
              "\n",
              "    .dataframe tbody tr th {\n",
              "        vertical-align: top;\n",
              "    }\n",
              "\n",
              "    .dataframe thead th {\n",
              "        text-align: right;\n",
              "    }\n",
              "</style>\n",
              "<table border=\"1\" class=\"dataframe\">\n",
              "  <thead>\n",
              "    <tr style=\"text-align: right;\">\n",
              "      <th></th>\n",
              "      <th>temp(cel)</th>\n",
              "      <th>mean_windspeed(km/hr)</th>\n",
              "      <th>re_hum(%)</th>\n",
              "      <th>cloud(okta)</th>\n",
              "      <th>rain(mm)</th>\n",
              "      <th>avg._no._rainyday</th>\n",
              "      <th>district</th>\n",
              "    </tr>\n",
              "  </thead>\n",
              "  <tbody>\n",
              "    <tr>\n",
              "      <th>0</th>\n",
              "      <td>29.173005</td>\n",
              "      <td>3.950765</td>\n",
              "      <td>73.503800</td>\n",
              "      <td>1.568318</td>\n",
              "      <td>7.544178</td>\n",
              "      <td>0.3</td>\n",
              "      <td>0</td>\n",
              "    </tr>\n",
              "    <tr>\n",
              "      <th>1</th>\n",
              "      <td>26.322006</td>\n",
              "      <td>5.611939</td>\n",
              "      <td>80.743144</td>\n",
              "      <td>4.499297</td>\n",
              "      <td>212.893017</td>\n",
              "      <td>9.0</td>\n",
              "      <td>11</td>\n",
              "    </tr>\n",
              "    <tr>\n",
              "      <th>2</th>\n",
              "      <td>28.735248</td>\n",
              "      <td>4.602524</td>\n",
              "      <td>82.287463</td>\n",
              "      <td>1.953590</td>\n",
              "      <td>71.237887</td>\n",
              "      <td>2.5</td>\n",
              "      <td>10</td>\n",
              "    </tr>\n",
              "    <tr>\n",
              "      <th>3</th>\n",
              "      <td>31.349318</td>\n",
              "      <td>4.018581</td>\n",
              "      <td>77.000361</td>\n",
              "      <td>2.101658</td>\n",
              "      <td>41.589795</td>\n",
              "      <td>2.1</td>\n",
              "      <td>4</td>\n",
              "    </tr>\n",
              "    <tr>\n",
              "      <th>4</th>\n",
              "      <td>16.079953</td>\n",
              "      <td>2.736255</td>\n",
              "      <td>81.199783</td>\n",
              "      <td>1.362766</td>\n",
              "      <td>8.075765</td>\n",
              "      <td>0.7</td>\n",
              "      <td>7</td>\n",
              "    </tr>\n",
              "    <tr>\n",
              "      <th>...</th>\n",
              "      <td>...</td>\n",
              "      <td>...</td>\n",
              "      <td>...</td>\n",
              "      <td>...</td>\n",
              "      <td>...</td>\n",
              "      <td>...</td>\n",
              "      <td>...</td>\n",
              "    </tr>\n",
              "    <tr>\n",
              "      <th>5105</th>\n",
              "      <td>15.229726</td>\n",
              "      <td>2.880747</td>\n",
              "      <td>77.100290</td>\n",
              "      <td>0.937661</td>\n",
              "      <td>15.007364</td>\n",
              "      <td>1.2</td>\n",
              "      <td>11</td>\n",
              "    </tr>\n",
              "    <tr>\n",
              "      <th>5106</th>\n",
              "      <td>33.471867</td>\n",
              "      <td>8.232567</td>\n",
              "      <td>59.765751</td>\n",
              "      <td>2.092724</td>\n",
              "      <td>9.281734</td>\n",
              "      <td>0.8</td>\n",
              "      <td>3</td>\n",
              "    </tr>\n",
              "    <tr>\n",
              "      <th>5107</th>\n",
              "      <td>21.052694</td>\n",
              "      <td>4.733295</td>\n",
              "      <td>50.799508</td>\n",
              "      <td>0.749329</td>\n",
              "      <td>8.408955</td>\n",
              "      <td>0.7</td>\n",
              "      <td>1</td>\n",
              "    </tr>\n",
              "    <tr>\n",
              "      <th>5108</th>\n",
              "      <td>23.752261</td>\n",
              "      <td>9.084627</td>\n",
              "      <td>69.481042</td>\n",
              "      <td>1.452602</td>\n",
              "      <td>10.563765</td>\n",
              "      <td>0.8</td>\n",
              "      <td>10</td>\n",
              "    </tr>\n",
              "    <tr>\n",
              "      <th>5109</th>\n",
              "      <td>32.876536</td>\n",
              "      <td>8.390085</td>\n",
              "      <td>81.157804</td>\n",
              "      <td>6.338488</td>\n",
              "      <td>268.685759</td>\n",
              "      <td>12.4</td>\n",
              "      <td>4</td>\n",
              "    </tr>\n",
              "  </tbody>\n",
              "</table>\n",
              "<p>5110 rows × 7 columns</p>\n",
              "</div>"
            ],
            "text/plain": [
              "      temp(cel)  mean_windspeed(km/hr)  ...  avg._no._rainyday  district\n",
              "0     29.173005               3.950765  ...                0.3         0\n",
              "1     26.322006               5.611939  ...                9.0        11\n",
              "2     28.735248               4.602524  ...                2.5        10\n",
              "3     31.349318               4.018581  ...                2.1         4\n",
              "4     16.079953               2.736255  ...                0.7         7\n",
              "...         ...                    ...  ...                ...       ...\n",
              "5105  15.229726               2.880747  ...                1.2        11\n",
              "5106  33.471867               8.232567  ...                0.8         3\n",
              "5107  21.052694               4.733295  ...                0.7         1\n",
              "5108  23.752261               9.084627  ...                0.8        10\n",
              "5109  32.876536               8.390085  ...               12.4         4\n",
              "\n",
              "[5110 rows x 7 columns]"
            ]
          },
          "metadata": {
            "tags": []
          },
          "execution_count": 5
        }
      ]
    },
    {
      "cell_type": "code",
      "metadata": {
        "colab": {
          "base_uri": "https://localhost:8080/"
        },
        "id": "X1hIfNZyPIkM",
        "outputId": "82369434-8b9e-4a88-895b-07bce23ae1c5"
      },
      "source": [
        "y"
      ],
      "execution_count": null,
      "outputs": [
        {
          "output_type": "execute_result",
          "data": {
            "text/plain": [
              "0       11\n",
              "1        9\n",
              "2       10\n",
              "3       10\n",
              "4        1\n",
              "        ..\n",
              "5105     1\n",
              "5106     4\n",
              "5107     4\n",
              "5108     4\n",
              "5109     7\n",
              "Name: month_index, Length: 5110, dtype: int64"
            ]
          },
          "metadata": {
            "tags": []
          },
          "execution_count": 6
        }
      ]
    },
    {
      "cell_type": "code",
      "metadata": {
        "id": "F2y9Qh2sPKjV"
      },
      "source": [
        "x_train, x_test, y_train, y_test= train_test_split(X, y, test_size= 0.25, random_state=0)"
      ],
      "execution_count": null,
      "outputs": []
    },
    {
      "cell_type": "code",
      "metadata": {
        "colab": {
          "base_uri": "https://localhost:8080/"
        },
        "id": "jP4bKnzcPhvZ",
        "outputId": "ec11d277-6d70-4966-8f6d-f4a40cf829b0"
      },
      "source": [
        "from sklearn.ensemble import RandomForestClassifier  \r\n",
        "classifier= RandomForestClassifier(n_estimators= 10, criterion=\"entropy\")  \r\n",
        "classifier.fit(x_train, y_train)"
      ],
      "execution_count": null,
      "outputs": [
        {
          "output_type": "execute_result",
          "data": {
            "text/plain": [
              "RandomForestClassifier(bootstrap=True, ccp_alpha=0.0, class_weight=None,\n",
              "                       criterion='entropy', max_depth=None, max_features='auto',\n",
              "                       max_leaf_nodes=None, max_samples=None,\n",
              "                       min_impurity_decrease=0.0, min_impurity_split=None,\n",
              "                       min_samples_leaf=1, min_samples_split=2,\n",
              "                       min_weight_fraction_leaf=0.0, n_estimators=10,\n",
              "                       n_jobs=None, oob_score=False, random_state=None,\n",
              "                       verbose=0, warm_start=False)"
            ]
          },
          "metadata": {
            "tags": []
          },
          "execution_count": 8
        }
      ]
    },
    {
      "cell_type": "code",
      "metadata": {
        "colab": {
          "base_uri": "https://localhost:8080/"
        },
        "id": "PNwm-XG8aYeu",
        "outputId": "f38bcb3e-7a5a-4f10-f826-f04551989c7b"
      },
      "source": [
        "import joblib\r\n",
        "filename = 'month_index.csv'\r\n",
        "joblib.dump(classifier,filename)"
      ],
      "execution_count": null,
      "outputs": [
        {
          "output_type": "execute_result",
          "data": {
            "text/plain": [
              "['month_index.csv']"
            ]
          },
          "metadata": {
            "tags": []
          },
          "execution_count": 9
        }
      ]
    },
    {
      "cell_type": "code",
      "metadata": {
        "colab": {
          "base_uri": "https://localhost:8080/"
        },
        "id": "IKCBvKspPkQ0",
        "outputId": "a8df89ce-1965-4944-ccc2-9a0bdb093494"
      },
      "source": [
        "model = joblib.load('month_index.csv')\r\n",
        "y_pred = model.predict(x_test)\r\n",
        "y_pred"
      ],
      "execution_count": null,
      "outputs": [
        {
          "output_type": "execute_result",
          "data": {
            "text/plain": [
              "array([ 7,  6, 10, ..., 10,  6,  9])"
            ]
          },
          "metadata": {
            "tags": []
          },
          "execution_count": 11
        }
      ]
    },
    {
      "cell_type": "code",
      "metadata": {
        "colab": {
          "base_uri": "https://localhost:8080/"
        },
        "id": "hrcjj8W1P2fG",
        "outputId": "94738571-d5be-42b6-e276-76c7892bbf34"
      },
      "source": [
        "y_test"
      ],
      "execution_count": null,
      "outputs": [
        {
          "output_type": "execute_result",
          "data": {
            "text/plain": [
              "42       7\n",
              "380      6\n",
              "3524    10\n",
              "352      9\n",
              "4927     6\n",
              "        ..\n",
              "4866     9\n",
              "1657     7\n",
              "982     10\n",
              "3679     6\n",
              "4803     9\n",
              "Name: month_index, Length: 1278, dtype: int64"
            ]
          },
          "metadata": {
            "tags": []
          },
          "execution_count": 12
        }
      ]
    },
    {
      "cell_type": "code",
      "metadata": {
        "colab": {
          "base_uri": "https://localhost:8080/"
        },
        "id": "cddNxcVEP6ZH",
        "outputId": "bfb6af18-0694-4395-b9d6-a7ea5fe40917"
      },
      "source": [
        "from sklearn.metrics import accuracy_score, confusion_matrix, classification_report\r\n",
        "# View accuracy score\r\n",
        "score = accuracy_score(y_test, y_pred)\r\n",
        "score"
      ],
      "execution_count": null,
      "outputs": [
        {
          "output_type": "execute_result",
          "data": {
            "text/plain": [
              "0.9835680751173709"
            ]
          },
          "metadata": {
            "tags": []
          },
          "execution_count": 13
        }
      ]
    },
    {
      "cell_type": "code",
      "metadata": {
        "id": "tVWu2U2ga8l5"
      },
      "source": [
        ""
      ],
      "execution_count": null,
      "outputs": []
    }
  ]
}